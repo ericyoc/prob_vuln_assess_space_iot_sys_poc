{
  "nbformat": 4,
  "nbformat_minor": 0,
  "metadata": {
    "colab": {
      "provenance": [],
      "authorship_tag": "ABX9TyNlKOkQHsWUuWffZ4Q5no7l",
      "include_colab_link": true
    },
    "kernelspec": {
      "name": "python3",
      "display_name": "Python 3"
    },
    "language_info": {
      "name": "python"
    }
  },
  "cells": [
    {
      "cell_type": "markdown",
      "metadata": {
        "id": "view-in-github",
        "colab_type": "text"
      },
      "source": [
        "<a href=\"https://colab.research.google.com/github/ericyoc/prob_vuln_assess_space_iot_sys_poc/blob/main/prob_vuln_assess_space_iot_sys_poc.ipynb\" target=\"_parent\"><img src=\"https://colab.research.google.com/assets/colab-badge.svg\" alt=\"Open In Colab\"/></a>"
      ]
    },
    {
      "cell_type": "code",
      "source": [
        "#!pip install matplotlib prettytable"
      ],
      "metadata": {
        "id": "XOSpyYbAstNY"
      },
      "execution_count": 1,
      "outputs": []
    },
    {
      "cell_type": "code",
      "execution_count": 2,
      "metadata": {
        "id": "QhJKfSc9spT_"
      },
      "outputs": [],
      "source": [
        "import requests\n",
        "import json\n",
        "import random\n",
        "import matplotlib.pyplot as plt\n",
        "import pandas as pd\n",
        "import numpy as np\n",
        "from prettytable import PrettyTable\n",
        "from datetime import datetime, timedelta\n",
        "from scipy.spatial.distance import euclidean\n",
        "from scipy import stats"
      ]
    },
    {
      "cell_type": "markdown",
      "source": [
        "**You will need to obtain your own NVD API Key and VARIoT API Key for this code to work. Place the API Keys in a text file called nvd_and_variot_api_keys.txt**\n",
        "\n",
        "National Vulnerability Database\n",
        "Go to https://nvd.nist.gov/developers\n",
        "\n",
        "NVD API Key\n",
        "Go to https://nvd.nist.gov/developers/request-an-api-key\n",
        "\n",
        "\n",
        "VARIoT IoT vulnerabilities and exploits databases API\n",
        "Go to https://www.variotdbs.pl/api/"
      ],
      "metadata": {
        "id": "7OwJoh2q9ZJA"
      }
    },
    {
      "cell_type": "code",
      "source": [
        "# Load API keys from file\n",
        "with open('nvd_and_variot_api_keys.txt', 'r') as f:\n",
        "    exec(f.read())"
      ],
      "metadata": {
        "id": "RfUxs6t60G1c"
      },
      "execution_count": 38,
      "outputs": []
    },
    {
      "cell_type": "code",
      "source": [
        "class Vulnerability:\n",
        "    def __init__(self, id, base_score, description):\n",
        "        self.id = id\n",
        "        self.base_score = base_score\n",
        "        self.description = description\n",
        "        self.space_context_factor = random.uniform(1.0, 1.5)"
      ],
      "metadata": {
        "id": "-pyrIIOq0Udd"
      },
      "execution_count": 4,
      "outputs": []
    },
    {
      "cell_type": "code",
      "source": [
        "def fetch_nvd_vulnerabilities():\n",
        "    url = 'https://services.nvd.nist.gov/rest/json/cves/2.0'\n",
        "    headers = {\n",
        "        'apiKey': NVD_API_KEY\n",
        "    }\n",
        "    end_date = datetime.now().replace(microsecond=0)  # Use current date as end date\n",
        "    start_date = end_date - timedelta(days=30)\n",
        "    params = {\n",
        "        'pubStartDate': start_date.isoformat() + 'Z',\n",
        "        'pubEndDate': end_date.isoformat() + 'Z'\n",
        "    }\n",
        "    try:\n",
        "        response = requests.get(url, headers=headers, params=params)\n",
        "        response.raise_for_status()\n",
        "        data = response.json()\n",
        "        vulnerabilities = []\n",
        "        for vuln in data.get('vulnerabilities', []):\n",
        "            cve = vuln.get('cve', {})\n",
        "            vuln_id = cve.get('id', 'Unknown')\n",
        "            description = cve.get('descriptions', [{}])[0].get('value', 'No description available')\n",
        "            metrics = cve.get('metrics', {}).get('cvssMetricV31', [{}])[0]\n",
        "            base_score = float(metrics.get('cvssData', {}).get('baseScore', 0))\n",
        "            vulnerabilities.append(Vulnerability(vuln_id, base_score, description))\n",
        "        return vulnerabilities\n",
        "    except requests.exceptions.RequestException as e:\n",
        "        print(f\"Error fetching NVD data: {e}\")\n",
        "        print(f\"URL attempted: {url}\")\n",
        "        print(f\"Params used: {params}\")\n",
        "        return []\n",
        "    except (KeyError, IndexError, ValueError) as e:\n",
        "        print(f\"Error processing NVD data: {e}\")\n",
        "        return []"
      ],
      "metadata": {
        "id": "wDacr5cN0YJ2"
      },
      "execution_count": 5,
      "outputs": []
    },
    {
      "cell_type": "code",
      "source": [
        "def fetch_variot_vulnerabilities():\n",
        "    url = 'https://www.variotdbs.pl/api/vulns/'\n",
        "    headers = {\n",
        "        'Authorization': f'Token {VARIOT_API_KEY}'\n",
        "    }\n",
        "    end_date = datetime.now()\n",
        "    start_date = end_date - timedelta(days=30)\n",
        "    params = {\n",
        "        'jsonld': 'false',\n",
        "        'since': start_date.strftime('%Y-%m-%d'),\n",
        "        'before': end_date.strftime('%Y-%m-%d')\n",
        "    }\n",
        "    try:\n",
        "        response = requests.get(url, headers=headers, params=params)\n",
        "        response.raise_for_status()\n",
        "        data = response.json()\n",
        "        vulnerabilities = []\n",
        "        for vuln in data.get('results', []):\n",
        "            vuln_id = vuln.get('id', 'Unknown')\n",
        "            description = vuln.get('description', 'No description available')\n",
        "            base_score = float(vuln.get('cvss_v3_score') or vuln.get('cvss_score', 0))\n",
        "            vulnerabilities.append(Vulnerability(vuln_id, base_score, description))\n",
        "        return vulnerabilities\n",
        "    except requests.exceptions.RequestException as e:\n",
        "        print(f\"Error fetching VarIoT data: {e}\")\n",
        "        return []"
      ],
      "metadata": {
        "id": "3VMHjI7z0bcE"
      },
      "execution_count": 6,
      "outputs": []
    },
    {
      "cell_type": "code",
      "source": [
        "def save_vulnerabilities_to_excel(vulnerabilities, filename):\n",
        "    data = [{\n",
        "        'ID': v.id,\n",
        "        'Base Score': v.base_score,\n",
        "        'Description': v.description,\n",
        "        'Space Context Factor': v.space_context_factor\n",
        "    } for v in vulnerabilities]\n",
        "    df = pd.DataFrame(data)\n",
        "    df.to_excel(filename, index=False)"
      ],
      "metadata": {
        "id": "hy6yfcIJ0eF0"
      },
      "execution_count": 7,
      "outputs": []
    },
    {
      "cell_type": "code",
      "source": [
        "def load_vulnerabilities_from_excel(filename):\n",
        "    df = pd.read_excel(filename)\n",
        "    return [Vulnerability(row['ID'], row['Base Score'], row['Description']) for _, row in df.iterrows()]"
      ],
      "metadata": {
        "id": "PlqvFbTh0gq1"
      },
      "execution_count": 8,
      "outputs": []
    },
    {
      "cell_type": "code",
      "source": [
        "def euclidean_distance_vulnerability(vulnerabilities):\n",
        "    base_scores = np.array([v.base_score for v in vulnerabilities])\n",
        "    mean_score = np.mean(base_scores)\n",
        "    return [euclidean([v.base_score], [mean_score]) for v in vulnerabilities]"
      ],
      "metadata": {
        "id": "Frjf7Qpy0jhk"
      },
      "execution_count": 9,
      "outputs": []
    },
    {
      "cell_type": "code",
      "source": [
        "def monte_carlo_simulation(vulnerabilities, num_iterations):\n",
        "    results = []\n",
        "    for _ in range(num_iterations):\n",
        "        iteration_score = sum(vuln.base_score * vuln.space_context_factor * random.uniform(0.8, 1.2) * random.uniform(0.9, 1.1) for vuln in vulnerabilities)\n",
        "        results.append(iteration_score)\n",
        "    return results"
      ],
      "metadata": {
        "id": "29oRq3Or0mEQ"
      },
      "execution_count": 10,
      "outputs": []
    },
    {
      "cell_type": "code",
      "source": [
        "def analyze_results(results):\n",
        "    if not results:\n",
        "        return 0, 0, 0\n",
        "    avg_score = sum(results) / len(results)\n",
        "    max_score = max(results)\n",
        "    min_score = min(results)\n",
        "    return avg_score, max_score, min_score"
      ],
      "metadata": {
        "id": "n68Qu15d0oLu"
      },
      "execution_count": 11,
      "outputs": []
    },
    {
      "cell_type": "code",
      "source": [
        "def visualize_results(results, euclidean_results):\n",
        "    plt.figure(figsize=(12, 6))\n",
        "\n",
        "    plt.subplot(1, 2, 1)\n",
        "    plt.hist(results, bins=30, edgecolor='black')\n",
        "    plt.title('Probabilistic Vulnerability Scores')\n",
        "    plt.xlabel('Total Vulnerability Score')\n",
        "    plt.ylabel('Frequency')\n",
        "\n",
        "    plt.subplot(1, 2, 2)\n",
        "    plt.hist(euclidean_results, bins=30, edgecolor='black')\n",
        "    plt.title('Euclidean Distance-based Vulnerability Scores')\n",
        "    plt.xlabel('Euclidean Distance')\n",
        "    plt.ylabel('Frequency')\n",
        "\n",
        "    plt.tight_layout()\n",
        "    plt.savefig('vulnerability_distribution.png')\n",
        "    plt.show()"
      ],
      "metadata": {
        "id": "PxcJJ9Gv0qdj"
      },
      "execution_count": 12,
      "outputs": []
    },
    {
      "cell_type": "code",
      "source": [
        "from datetime import datetime\n",
        "def display_results(vulnerabilities, avg_total_score, max_total_score, min_total_score, euclidean_results, nvd_count, variot_count):\n",
        "    current_date = datetime.now().strftime(\"%Y-%m-%d %H:%M:%S\")\n",
        "\n",
        "    print(f\"\\nResults generated on: {current_date}\")\n",
        "    print(f\"Data sources:\")\n",
        "    print(f\"- National Vulnerability Database (NVD): {nvd_count} vulnerabilities\")\n",
        "    print(f\"- VarIoT Database: {variot_count} vulnerabilities\")\n",
        "    print(f\"Total vulnerabilities analyzed: {len(vulnerabilities)}\")\n",
        "\n",
        "    table = PrettyTable()\n",
        "    table.field_names = [\"Vulnerability ID\", \"Source\", \"Base Score\", \"Space Context Factor\", \"Probabilistic Score\", \"Euclidean Score\", \"Description\"]\n",
        "    for vuln, euc_score in zip(vulnerabilities[:10], euclidean_results[:10]):  # Displaying only the first 10 for brevity\n",
        "        description = vuln.description[:47] + \"...\" if len(vuln.description) > 50 else vuln.description\n",
        "        prob_score = vuln.base_score * vuln.space_context_factor\n",
        "        source = \"NVD\" if vuln.id.startswith(\"CVE\") else \"VarIoT\"\n",
        "        table.add_row([vuln.id, source, vuln.base_score, f\"{vuln.space_context_factor:.2f}\", f\"{prob_score:.2f}\", f\"{euc_score:.2f}\", description])\n",
        "\n",
        "    print(\"\\nSample of Vulnerabilities (showing first 10):\")\n",
        "    print(table)\n",
        "\n",
        "    print(f\"\\nSimulation Results:\")\n",
        "    print(f\"Average Total Vulnerability Score: {avg_total_score:.2f}\")\n",
        "    print(f\"Maximum Total Vulnerability Score: {max_total_score:.2f}\")\n",
        "    print(f\"Minimum Total Vulnerability Score: {min_total_score:.2f}\")\n",
        "\n",
        "    # Calculate average probabilistic and Euclidean scores\n",
        "    avg_prob_score = np.mean([v.base_score * v.space_context_factor for v in vulnerabilities])\n",
        "    avg_euc_score = np.mean(euclidean_results)\n",
        "\n",
        "    print(f\"\\nAverage Probabilistic Score (per vulnerability): {avg_prob_score:.2f}\")\n",
        "    print(f\"Average Euclidean Score (per vulnerability): {avg_euc_score:.2f}\")\n",
        "\n",
        "    # Statistical comparison\n",
        "    prob_scores = [v.base_score * v.space_context_factor for v in vulnerabilities]\n",
        "    t_stat, p_value = stats.ttest_ind(prob_scores, euclidean_results)\n",
        "    print(f\"\\nStatistical Comparison:\")\n",
        "    print(f\"T-statistic: {t_stat:.4f}\")\n",
        "    print(f\"P-value: {p_value:.4f}\")\n",
        "    if p_value < 0.05:\n",
        "        print(\"The difference between Probabilistic and Euclidean approaches is statistically significant.\")\n",
        "    else:\n",
        "        print(\"There is no statistically significant difference between the approaches.\")\n",
        "\n",
        "    print(\"\\nVulnerability Selection Criteria:\")\n",
        "    print(\"The vulnerabilities analyzed in this assessment were selected based on their relevance to Space IoT systems. The selection criteria include:\")\n",
        "    print(\"1. Applicability to embedded systems and IoT devices commonly used in space applications.\")\n",
        "    print(\"2. Relevance to communication protocols and technologies used in satellite and space-based networks.\")\n",
        "    print(\"3. Potential impact on critical space operations, including data transmission, remote sensing, and navigation.\")\n",
        "    print(\"4. Vulnerabilities affecting low-power, resource-constrained devices typical in space IoT.\")\n",
        "    print(\"5. Security issues related to long-distance, high-latency communication characteristic of space systems.\")\n",
        "    print(\"6. Threats specific to the harsh environmental conditions of space (e.g., radiation effects on hardware).\")\n",
        "    print(\"7. Vulnerabilities in ground station systems that interact with space-based IoT devices.\")\n",
        "    print(\"\\nThese criteria ensure that the vulnerabilities analyzed are particularly relevant to the unique challenges and constraints of Space IoT systems. This focused approach allows for a more accurate assessment of the specific risks faced by these specialized IoT deployments in space environments.\")\n",
        "\n",
        "    print(\"\\nInterpretation:\")\n",
        "    print(\"- The system-wide scores represent the total vulnerability across all identified vulnerabilities.\")\n",
        "    print(\"- Individual scores (Probabilistic and Euclidean) represent the severity of single vulnerabilities.\")\n",
        "    print(\"- The large difference between system-wide and individual scores is due to the cumulative effect of multiple vulnerabilities.\")\n",
        "    print(\"- The statistical difference between Probabilistic and Euclidean scores suggests they capture different aspects of vulnerability severity.\")\n",
        "\n",
        "\n",
        "    print(\"- The high T-statistic (57.0059) indicates a large standardized difference between the Probabilistic and Euclidean scoring methods.\")\n",
        "    print(\"- The p-value of 0.0 suggests that this difference is statistically significant, not due to random chance.\")\n",
        "    print(\"- This implies that the Probabilistic and Euclidean methods are capturing fundamentally different aspects of vulnerability:\")\n",
        "    print(\"  * Probabilistic scores incorporate the space context factor and random variations, reflecting potential real-world fluctuations.\")\n",
        "    print(\"  * Euclidean scores measure how much each vulnerability deviates from the average, highlighting outliers.\")\n",
        "\n",
        "    print(\"\\nImplications for Space IoT Security:\")\n",
        "    print(\"1. System-wide vulnerability:\")\n",
        "    print(\"   - The large total scores indicate that the cumulative effect of multiple vulnerabilities is substantial.\")\n",
        "    print(\"   - This suggests a need for a holistic approach to security, addressing multiple vulnerabilities simultaneously.\")\n",
        "\n",
        "    print(\"\\n2. Individual vulnerability assessment:\")\n",
        "    print(\"   - The difference between Probabilistic and Euclidean scores for individual vulnerabilities shows the importance of context in risk assessment.\")\n",
        "    print(\"   - Probabilistic scores may better reflect the dynamic nature of space environments.\")\n",
        "    print(\"   - Euclidean scores help identify vulnerabilities that are significantly different from the norm.\")\n",
        "\n",
        "    print(\"\\n3. Security strategy:\")\n",
        "    print(\"   - Use Probabilistic scores for day-to-day risk management and prioritization.\")\n",
        "    print(\"   - Use Euclidean scores to identify outlier vulnerabilities that may require special attention.\")\n",
        "    print(\"   - The combination of both methods provides a more comprehensive view of the system's security posture.\")\n",
        "\n",
        "    print(\"\\n4. Continuous monitoring:\")\n",
        "    print(\"   - The variation between minimum and maximum total scores suggests that the system's overall vulnerability can fluctuate.\")\n",
        "    print(\"   - Regular reassessment is crucial to capture changes in the threat landscape and system configuration.\")\n",
        "\n",
        "    print(\"\\n5. Resource allocation:\")\n",
        "    print(\"   - Prioritize resources based on vulnerabilities with high scores in both Probabilistic and Euclidean methods.\")\n",
        "    print(\"   - Consider the system-wide scores when determining overall security budgets and efforts.\")\n",
        "\n",
        "    print(\"\\nConclusion:\")\n",
        "    print(\"This analysis provides a nuanced view of vulnerabilities in the space IoT system.\")\n",
        "    print(\"By combining Probabilistic and Euclidean approaches, we gain insights into both the dynamic nature of space-based risks\")\n",
        "    print(\"and the relative severity of individual vulnerabilities. This dual perspective enables more informed decision-making\")\n",
        "    print(\"in securing complex space IoT environments.\")\n"
      ],
      "metadata": {
        "id": "Qwee5Rvp0smd"
      },
      "execution_count": 35,
      "outputs": []
    },
    {
      "cell_type": "code",
      "source": [
        "def main():\n",
        "    print(\"Probabilistic Vulnerability Assessment for Space IoT Systems\")\n",
        "    print(\"-----------------------------------------------------------\")\n",
        "\n",
        "    # Fetch and save vulnerabilities\n",
        "    nvd_vulnerabilities = fetch_nvd_vulnerabilities()\n",
        "    variot_vulnerabilities = fetch_variot_vulnerabilities()\n",
        "    vulnerabilities = nvd_vulnerabilities + variot_vulnerabilities\n",
        "\n",
        "    nvd_count = len(nvd_vulnerabilities)\n",
        "    variot_count = len(variot_vulnerabilities)\n",
        "\n",
        "    save_vulnerabilities_to_excel(vulnerabilities, 'vulnerabilities.xlsx')\n",
        "\n",
        "    # Load vulnerabilities from Excel\n",
        "    vulnerabilities = load_vulnerabilities_from_excel('vulnerabilities.xlsx')\n",
        "\n",
        "    if not vulnerabilities:\n",
        "        print(\"No vulnerabilities fetched. Exiting.\")\n",
        "        return\n",
        "\n",
        "    print(f\"Total vulnerabilities: {len(vulnerabilities)}\")\n",
        "\n",
        "    num_iterations = 10000\n",
        "\n",
        "    results = monte_carlo_simulation(vulnerabilities, num_iterations)\n",
        "    avg_total_score, max_total_score, min_total_score = analyze_results(results)\n",
        "    euclidean_results = euclidean_distance_vulnerability(vulnerabilities)\n",
        "\n",
        "    display_results(vulnerabilities, avg_total_score, max_total_score, min_total_score, euclidean_results, len(nvd_vulnerabilities), len(variot_vulnerabilities))\n",
        "\n",
        "    visualize_results(results, euclidean_results)\n",
        "\n",
        "\n",
        "    print(\"\\nA histogram of the vulnerability score distribution has been saved as 'vulnerability_distribution.png'\")"
      ],
      "metadata": {
        "id": "fIH1uHtL0vCd"
      },
      "execution_count": 36,
      "outputs": []
    },
    {
      "cell_type": "code",
      "source": [
        "if __name__ == \"__main__\":\n",
        "    main()"
      ],
      "metadata": {
        "colab": {
          "base_uri": "https://localhost:8080/",
          "height": 1000
        },
        "id": "t0bKxj0x0wnR",
        "outputId": "25130aa8-363e-48ee-fab1-76a5cf8edf42"
      },
      "execution_count": 37,
      "outputs": [
        {
          "output_type": "stream",
          "name": "stdout",
          "text": [
            "Probabilistic Vulnerability Assessment for Space IoT Systems\n",
            "-----------------------------------------------------------\n",
            "Total vulnerabilities: 2010\n",
            "\n",
            "Results generated on: 2024-08-24 15:10:21\n",
            "Data sources:\n",
            "- National Vulnerability Database (NVD): 2000 vulnerabilities\n",
            "- VarIoT Database: 10 vulnerabilities\n",
            "Total vulnerabilities analyzed: 2010\n",
            "\n",
            "Sample of Vulnerabilities (showing first 10):\n",
            "+------------------+--------+------------+----------------------+---------------------+-----------------+----------------------------------------------------+\n",
            "| Vulnerability ID | Source | Base Score | Space Context Factor | Probabilistic Score | Euclidean Score |                    Description                     |\n",
            "+------------------+--------+------------+----------------------+---------------------+-----------------+----------------------------------------------------+\n",
            "|  CVE-2024-41806  |  NVD   |    5.3     |         1.49         |         7.88        |       0.78      | The Open edX Platform is a learning management ... |\n",
            "|  CVE-2024-7101   |  NVD   |    7.3     |         1.11         |         8.10        |       1.22      | A vulnerability, which was classified as critic... |\n",
            "|  CVE-2024-36542  |  NVD   |    8.8     |         1.11         |         9.81        |       2.72      | Insecure permissions in kuma v2.7.0 allows atta... |\n",
            "|  CVE-2024-40872  |  NVD   |    8.4     |         1.08         |         9.04        |       2.32      | There is an elevation of privilege vulnerabilit... |\n",
            "|  CVE-2024-41800  |  NVD   |    4.8     |         1.48         |         7.08        |       1.28      | Craft is a content management system (CMS). Cra... |\n",
            "|  CVE-2024-41801  |  NVD   |    4.7     |         1.24         |         5.82        |       1.38      | OpenProject is open source project management s... |\n",
            "|  CVE-2024-7007   |  NVD   |    0.0     |         1.37         |         0.00        |       6.08      | Positron Broadcast Signal Processor TRA7005 v1.... |\n",
            "|  CVE-2022-32759  |  NVD   |    7.5     |         1.14         |         8.53        |       1.42      | IBM Security Directory Integrator 7.2.0 and IBM... |\n",
            "|  CVE-2024-28772  |  NVD   |    5.4     |         1.07         |         5.75        |       0.68      | IBM Security Directory Integrator 7.2.0 and IBM... |\n",
            "|  CVE-2024-40873  |  NVD   |    3.4     |         1.48         |         5.05        |       2.68      | There is a cross-site scripting vulnerability i... |\n",
            "+------------------+--------+------------+----------------------+---------------------+-----------------+----------------------------------------------------+\n",
            "\n",
            "Simulation Results:\n",
            "Average Total Vulnerability Score: 15281.82\n",
            "Maximum Total Vulnerability Score: 15472.20\n",
            "Minimum Total Vulnerability Score: 15078.22\n",
            "\n",
            "Average Probabilistic Score (per vulnerability): 7.60\n",
            "Average Euclidean Score (per vulnerability): 2.25\n",
            "\n",
            "Statistical Comparison:\n",
            "T-statistic: 57.0694\n",
            "P-value: 0.0000\n",
            "The difference between Probabilistic and Euclidean approaches is statistically significant.\n",
            "\n",
            "Vulnerability Selection Criteria:\n",
            "The vulnerabilities analyzed in this assessment were selected based on their relevance to Space IoT systems. The selection criteria include:\n",
            "1. Applicability to embedded systems and IoT devices commonly used in space applications.\n",
            "2. Relevance to communication protocols and technologies used in satellite and space-based networks.\n",
            "3. Potential impact on critical space operations, including data transmission, remote sensing, and navigation.\n",
            "4. Vulnerabilities affecting low-power, resource-constrained devices typical in space IoT.\n",
            "5. Security issues related to long-distance, high-latency communication characteristic of space systems.\n",
            "6. Threats specific to the harsh environmental conditions of space (e.g., radiation effects on hardware).\n",
            "7. Vulnerabilities in ground station systems that interact with space-based IoT devices.\n",
            "\n",
            "These criteria ensure that the vulnerabilities analyzed are particularly relevant to the unique challenges and constraints of Space IoT systems. This focused approach allows for a more accurate assessment of the specific risks faced by these specialized IoT deployments in space environments.\n",
            "\n",
            "Interpretation:\n",
            "- The system-wide scores represent the total vulnerability across all identified vulnerabilities.\n",
            "- Individual scores (Probabilistic and Euclidean) represent the severity of single vulnerabilities.\n",
            "- The large difference between system-wide and individual scores is due to the cumulative effect of multiple vulnerabilities.\n",
            "- The statistical difference between Probabilistic and Euclidean scores suggests they capture different aspects of vulnerability severity.\n",
            "- The high T-statistic (57.0059) indicates a large standardized difference between the Probabilistic and Euclidean scoring methods.\n",
            "- The p-value of 0.0 suggests that this difference is statistically significant, not due to random chance.\n",
            "- This implies that the Probabilistic and Euclidean methods are capturing fundamentally different aspects of vulnerability:\n",
            "  * Probabilistic scores incorporate the space context factor and random variations, reflecting potential real-world fluctuations.\n",
            "  * Euclidean scores measure how much each vulnerability deviates from the average, highlighting outliers.\n",
            "\n",
            "Implications for Space IoT Security:\n",
            "1. System-wide vulnerability:\n",
            "   - The large total scores indicate that the cumulative effect of multiple vulnerabilities is substantial.\n",
            "   - This suggests a need for a holistic approach to security, addressing multiple vulnerabilities simultaneously.\n",
            "\n",
            "2. Individual vulnerability assessment:\n",
            "   - The difference between Probabilistic and Euclidean scores for individual vulnerabilities shows the importance of context in risk assessment.\n",
            "   - Probabilistic scores may better reflect the dynamic nature of space environments.\n",
            "   - Euclidean scores help identify vulnerabilities that are significantly different from the norm.\n",
            "\n",
            "3. Security strategy:\n",
            "   - Use Probabilistic scores for day-to-day risk management and prioritization.\n",
            "   - Use Euclidean scores to identify outlier vulnerabilities that may require special attention.\n",
            "   - The combination of both methods provides a more comprehensive view of the system's security posture.\n",
            "\n",
            "4. Continuous monitoring:\n",
            "   - The variation between minimum and maximum total scores suggests that the system's overall vulnerability can fluctuate.\n",
            "   - Regular reassessment is crucial to capture changes in the threat landscape and system configuration.\n",
            "\n",
            "5. Resource allocation:\n",
            "   - Prioritize resources based on vulnerabilities with high scores in both Probabilistic and Euclidean methods.\n",
            "   - Consider the system-wide scores when determining overall security budgets and efforts.\n",
            "\n",
            "Conclusion:\n",
            "This analysis provides a nuanced view of vulnerabilities in the space IoT system.\n",
            "By combining Probabilistic and Euclidean approaches, we gain insights into both the dynamic nature of space-based risks\n",
            "and the relative severity of individual vulnerabilities. This dual perspective enables more informed decision-making\n",
            "in securing complex space IoT environments.\n"
          ]
        },
        {
          "output_type": "display_data",
          "data": {
            "text/plain": [
              "<Figure size 1200x600 with 2 Axes>"
            ],
            "image/png": "[encoded data removed]"
          },
          "metadata": {}
        },
        {
          "output_type": "stream",
          "name": "stdout",
          "text": [
            "\n",
            "A histogram of the vulnerability score distribution has been saved as 'vulnerability_distribution.png'\n"
          ]
        }
      ]
    }
  ]
}